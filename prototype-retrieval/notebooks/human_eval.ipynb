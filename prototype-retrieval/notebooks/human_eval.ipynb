{
 "metadata": {
  "language_info": {
   "codemirror_mode": {
    "name": "ipython",
    "version": 3
   },
   "file_extension": ".py",
   "mimetype": "text/x-python",
   "name": "python",
   "nbconvert_exporter": "python",
   "pygments_lexer": "ipython3",
   "version": "3.6.9"
  },
  "orig_nbformat": 2,
  "kernelspec": {
   "name": "python3",
   "display_name": "Python 3",
   "language": "python"
  }
 },
 "nbformat": 4,
 "nbformat_minor": 2,
 "cells": [
  {
   "cell_type": "code",
   "execution_count": 1,
   "metadata": {},
   "outputs": [],
   "source": [
    "import os\n",
    "import numpy as np\n",
    "import pandas as pd\n",
    "\n",
    "from sacremoses import MosesDetokenizer\n",
    "from tqdm import tqdm\n",
    "\n",
    "\n",
    "md = MosesDetokenizer(lang='en')\n",
    "type_map = {\n",
    "    \"name\": \"Name\",\n",
    "    \"eatType\": \"Eat type\",\n",
    "    \"food\": \"Food\",\n",
    "    \"customerRating\": \"Customer rating\",\n",
    "    \"area\": \"Area\",\n",
    "    \"familyFriendly\": \"Family friendly\",\n",
    "    \"priceRange\": \"Price range\",\n",
    "    \"near\": \"Near\"\n",
    "}"
   ]
  },
  {
   "cell_type": "code",
   "execution_count": 2,
   "metadata": {},
   "outputs": [],
   "source": [
    "def read_from_file(fname, strip=True):\n",
    "    with open(fname, \"r\") as f:\n",
    "        if strip:\n",
    "            return [line.strip() for line in f]\n",
    "        else:\n",
    "            return [line for line in f]\n",
    "\n",
    "def postprocess_e2e_preds(preds):\n",
    "    processed_preds = []\n",
    "    for pred in tqdm(preds):\n",
    "        processed_preds.append(md.detokenize(pred.replace(\"_\", \" \").split()))\n",
    "    return processed_preds\n",
    "\n",
    "def process_type_lines(type_lines):\n",
    "    processed_types = []\n",
    "    for type_line in type_lines:\n",
    "        processed_types.append([type_map[type] for type in type_line.split()])\n",
    "    return processed_types\n",
    "\n",
    "def process_value(value):\n",
    "        if value == \"family_friendly\":\n",
    "            return \"yes\"\n",
    "        elif value == \"not_family_friendly\":\n",
    "            return \"no\"\n",
    "        else:\n",
    "            return value.replace(\"_\", \" \")\n",
    "\n",
    "def process_value_lines(value_lines):\n",
    "    processed_values = []\n",
    "    for value_line in value_lines:\n",
    "        processed_values.append([process_value(value) for value in value_line.split()])\n",
    "    return processed_values\n"
   ]
  },
  {
   "cell_type": "code",
   "execution_count": 3,
   "metadata": {},
   "outputs": [
    {
     "output_type": "stream",
     "name": "stderr",
     "text": [
      "100%|██████████| 6300/6300 [00:03<00:00, 1696.03it/s]\n",
      "100%|██████████| 6300/6300 [00:03<00:00, 1645.92it/s]\n",
      "100%|██████████| 6300/6300 [00:03<00:00, 1958.07it/s]\n",
      "100%|██████████| 6300/6300 [00:03<00:00, 1750.23it/s]\n"
     ]
    }
   ],
   "source": [
    "data_dir = \"/projects/ogma2/users/andrewsi/control-data2text/DTG-SI/e2e_data/val\"\n",
    "baseline_preds_file = \"/projects/ogma2/users/andrewsi/control-data2text/transformers/examples/seq2seq/exp/e2e/e2e_t5_small_01/checkpoint-10000/validation_preds.txt\"\n",
    "dtg_si_preds_file = \"/projects/ogma2/users/andrewsi/control-data2text/DTG-SI/e2e_dtg_si/ckpt/hypos.step1200.val.txt\"\n",
    "our_preds_file = \"/projects/ogma2/users/andrewsi/control-data2text/transformers/examples/seq2seq/exp/e2e/e2e_k3_t5_small_01/checkpoint-8295/validation_preds.txt\"\n",
    "\n",
    "x_types = process_type_lines(read_from_file(f\"{data_dir}/x_type.valid.txt\"))\n",
    "x_values = process_value_lines(read_from_file(f\"{data_dir}/x_value.valid.txt\"))\n",
    "y_refs = postprocess_e2e_preds(read_from_file(f\"{data_dir}/y_ref.valid.txt\"))\n",
    "\n",
    "baseline_preds = postprocess_e2e_preds(read_from_file(baseline_preds_file))\n",
    "dtg_si_preds = postprocess_e2e_preds(read_from_file(dtg_si_preds_file))\n",
    "our_preds = postprocess_e2e_preds(read_from_file(our_preds_file))\n"
   ]
  },
  {
   "cell_type": "code",
   "execution_count": 16,
   "metadata": {},
   "outputs": [],
   "source": [
    "indices = [4653, 2659, 5128, 5810, 2976, 2096, 2063, 3507, 5783, 4778, 4105, 3671, 350, 4589, 5183, 2109, 4, 5656, 1779, 4169, 5105, 5988, 5960, 397, 1534, 6161, 5622, 2177, 3010, 706, 597, 6234, 612, 4963, 4255, 5463, 655, 269, 2937, 1603, 3943, 1850, 6176, 6233, 721, 732, 1420, 5103, 1781, 4899, 438, 5581, 6154, 3295, 45, 2990, 4125, 5830, 2053, 3034, 920, 158, 1180, 3630, 4695, 5541, 2502, 4436, 5527, 2059, 4587, 2562, 2561, 1861, 3419, 3684, 2164, 1523, 5139, 1008, 298, 6120, 1156, 1260, 5652, 388, 4814, 1301, 4531, 2076, 4406, 843, 24, 35, 1164, 968, 5951, 3865, 977, 637]"
   ]
  },
  {
   "cell_type": "code",
   "execution_count": 14,
   "metadata": {},
   "outputs": [],
   "source": [
    "junxian = [4653, 2659, 5128, 5810, 2976, 2096, 2063, 3507, 5783, 4778, 4105, 3671, 350, 4589, 5183, 2109, 4, 5656, 1779, 4169, 5105, 5988, 5960, 397, 1534, 6161, 5622, 2177, 3010, 706, 597, 6234, 612, 4963, 4255, 5463, 655, 269, 2937, 1603, 3943, 1850, 6176, 6233, 721, 732, 1420, 5103, 1781, 4899]\n",
    "\n",
    "junxian2 = [438, 5581, 6154, 3295, 45, 2990, 4125, 5830, 2053, 3034, 920, 158, 1180, 3630, 4695, 5541, 2502, 4436, 5527, 2059, 4587, 2562, 2561, 1861, 3419, 3684, 2164, 1523, 5139, 1008, 298, 6120, 1156, 1260, 5652, 388, 4814, 1301, 4531, 2076, 4406, 843, 24, 35, 1164, 968, 5951, 3865, 977, 637]"
   ]
  },
  {
   "cell_type": "code",
   "execution_count": 26,
   "metadata": {},
   "outputs": [],
   "source": [
    "np.random.shuffle(indices)"
   ]
  },
  {
   "cell_type": "code",
   "execution_count": 33,
   "metadata": {},
   "outputs": [
    {
     "output_type": "execute_result",
     "data": {
      "text/plain": [
       "4963"
      ]
     },
     "metadata": {},
     "execution_count": 33
    }
   ],
   "source": [
    "indices[49]"
   ]
  },
  {
   "cell_type": "code",
   "execution_count": 29,
   "metadata": {},
   "outputs": [],
   "source": [
    "eval_sheet = []\n",
    "# eval_sample = np.random.choice(len(x_type_lines), 100, replace=False)\n",
    "\n",
    "for i in indices:\n",
    "    eval_sheet.append([\"Table\", \"\", \"Exemplar\", \"Generations\", \"Factual Consistency\", \"Style Embodiment\", \"Fluency\", \"ID\", str(i)])\n",
    "    gens = [baseline_preds[i], dtg_si_preds[i], our_preds[i]]\n",
    "    gen_idx_perm = np.random.permutation(range(3))\n",
    "    shuffled_gens = [gens[i] for i in gen_idx_perm]\n",
    "    eval_sheet.append([x_types[i][0], x_values[i][0], y_refs[i], shuffled_gens[0], \"\", \"\", \"\", str(gen_idx_perm[0]), \"\"])\n",
    "    eval_sheet.append([x_types[i][1], x_values[i][1], \"\", shuffled_gens[1], \"\", \"\", \"\", str(gen_idx_perm[1]), \"\"])\n",
    "    eval_sheet.append([x_types[i][2], x_values[i][2], \"\", shuffled_gens[2], \"\", \"\", \"\", str(gen_idx_perm[2]), \"\"])\n",
    "    for j in range(3, len(x_types[i])):\n",
    "        eval_sheet.append([x_types[i][j], x_values[i][j], \"\", \"\", \"\", \"\", \"\", \"\", \"\"])\n",
    "    eval_sheet.append([\"\"] * 9)\n",
    "    eval_sheet.append([\"\"] * 9)\n"
   ]
  },
  {
   "cell_type": "code",
   "execution_count": 30,
   "metadata": {},
   "outputs": [],
   "source": [
    "eval_df = pd.DataFrame(eval_sheet)"
   ]
  },
  {
   "cell_type": "code",
   "execution_count": 31,
   "metadata": {},
   "outputs": [
    {
     "output_type": "execute_result",
     "data": {
      "text/plain": [
       "                  0                  1  \\\n",
       "0             Table                      \n",
       "1              Name  The Golden Palace   \n",
       "2          Eat type        coffee shop   \n",
       "3              Food            Italian   \n",
       "4       Price range              cheap   \n",
       "5   Customer rating         5 out of 5   \n",
       "6              Area          riverside   \n",
       "7                                        \n",
       "8                                        \n",
       "9             Table                      \n",
       "10             Name       The Waterman   \n",
       "11             Food               fast   \n",
       "12      Price range           moderate   \n",
       "13  Customer rating         3 out of 5   \n",
       "14             Area        city centre   \n",
       "15  Family friendly                 no   \n",
       "16                                       \n",
       "17                                       \n",
       "18            Table                      \n",
       "19             Name      The Rice Boat   \n",
       "\n",
       "                                                    2  \\\n",
       "0                                            Exemplar   \n",
       "1   The Golden Curry is a family friendly Indian r...   \n",
       "2                                                       \n",
       "3                                                       \n",
       "4                                                       \n",
       "5                                                       \n",
       "6                                                       \n",
       "7                                                       \n",
       "8                                                       \n",
       "9                                            Exemplar   \n",
       "10  With a rating of 5 out of 5, Clowns coffee sho...   \n",
       "11                                                      \n",
       "12                                                      \n",
       "13                                                      \n",
       "14                                                      \n",
       "15                                                      \n",
       "16                                                      \n",
       "17                                                      \n",
       "18                                           Exemplar   \n",
       "19  The Wrestlers is a family friendly Indian coff...   \n",
       "\n",
       "                                                    3                    4  \\\n",
       "0                                         Generations  Factual Consistency   \n",
       "1   The Golden Palace is a cheap Italian coffee sh...                        \n",
       "2   The Golden Palace is a cheap Italian coffee sh...                        \n",
       "3   The Golden Palace is a family friendly Italian...                        \n",
       "4                                                                            \n",
       "5                                                                            \n",
       "6                                                                            \n",
       "7                                                                            \n",
       "8                                                                            \n",
       "9                                         Generations  Factual Consistency   \n",
       "10  There is a 3 out of 5, The Waterman located ne...                        \n",
       "11  The Waterman is a moderately priced fast food ...                        \n",
       "12  With a customer rating of 3 out of 5, The Wate...                        \n",
       "13                                                                           \n",
       "14                                                                           \n",
       "15                                                                           \n",
       "16                                                                           \n",
       "17                                                                           \n",
       "18                                        Generations  Factual Consistency   \n",
       "19  The Rice Boat is a family friendly French rest...                        \n",
       "\n",
       "                   5        6   7     8  \n",
       "0   Style Embodiment  Fluency  ID  1008  \n",
       "1                               0        \n",
       "2                               2        \n",
       "3                               1        \n",
       "4                                        \n",
       "5                                        \n",
       "6                                        \n",
       "7                                        \n",
       "8                                        \n",
       "9   Style Embodiment  Fluency  ID   706  \n",
       "10                              1        \n",
       "11                              0        \n",
       "12                              2        \n",
       "13                                       \n",
       "14                                       \n",
       "15                                       \n",
       "16                                       \n",
       "17                                       \n",
       "18  Style Embodiment  Fluency  ID  5183  \n",
       "19                              1        "
      ],
      "text/html": "<div>\n<style scoped>\n    .dataframe tbody tr th:only-of-type {\n        vertical-align: middle;\n    }\n\n    .dataframe tbody tr th {\n        vertical-align: top;\n    }\n\n    .dataframe thead th {\n        text-align: right;\n    }\n</style>\n<table border=\"1\" class=\"dataframe\">\n  <thead>\n    <tr style=\"text-align: right;\">\n      <th></th>\n      <th>0</th>\n      <th>1</th>\n      <th>2</th>\n      <th>3</th>\n      <th>4</th>\n      <th>5</th>\n      <th>6</th>\n      <th>7</th>\n      <th>8</th>\n    </tr>\n  </thead>\n  <tbody>\n    <tr>\n      <th>0</th>\n      <td>Table</td>\n      <td></td>\n      <td>Exemplar</td>\n      <td>Generations</td>\n      <td>Factual Consistency</td>\n      <td>Style Embodiment</td>\n      <td>Fluency</td>\n      <td>ID</td>\n      <td>1008</td>\n    </tr>\n    <tr>\n      <th>1</th>\n      <td>Name</td>\n      <td>The Golden Palace</td>\n      <td>The Golden Curry is a family friendly Indian r...</td>\n      <td>The Golden Palace is a cheap Italian coffee sh...</td>\n      <td></td>\n      <td></td>\n      <td></td>\n      <td>0</td>\n      <td></td>\n    </tr>\n    <tr>\n      <th>2</th>\n      <td>Eat type</td>\n      <td>coffee shop</td>\n      <td></td>\n      <td>The Golden Palace is a cheap Italian coffee sh...</td>\n      <td></td>\n      <td></td>\n      <td></td>\n      <td>2</td>\n      <td></td>\n    </tr>\n    <tr>\n      <th>3</th>\n      <td>Food</td>\n      <td>Italian</td>\n      <td></td>\n      <td>The Golden Palace is a family friendly Italian...</td>\n      <td></td>\n      <td></td>\n      <td></td>\n      <td>1</td>\n      <td></td>\n    </tr>\n    <tr>\n      <th>4</th>\n      <td>Price range</td>\n      <td>cheap</td>\n      <td></td>\n      <td></td>\n      <td></td>\n      <td></td>\n      <td></td>\n      <td></td>\n      <td></td>\n    </tr>\n    <tr>\n      <th>5</th>\n      <td>Customer rating</td>\n      <td>5 out of 5</td>\n      <td></td>\n      <td></td>\n      <td></td>\n      <td></td>\n      <td></td>\n      <td></td>\n      <td></td>\n    </tr>\n    <tr>\n      <th>6</th>\n      <td>Area</td>\n      <td>riverside</td>\n      <td></td>\n      <td></td>\n      <td></td>\n      <td></td>\n      <td></td>\n      <td></td>\n      <td></td>\n    </tr>\n    <tr>\n      <th>7</th>\n      <td></td>\n      <td></td>\n      <td></td>\n      <td></td>\n      <td></td>\n      <td></td>\n      <td></td>\n      <td></td>\n      <td></td>\n    </tr>\n    <tr>\n      <th>8</th>\n      <td></td>\n      <td></td>\n      <td></td>\n      <td></td>\n      <td></td>\n      <td></td>\n      <td></td>\n      <td></td>\n      <td></td>\n    </tr>\n    <tr>\n      <th>9</th>\n      <td>Table</td>\n      <td></td>\n      <td>Exemplar</td>\n      <td>Generations</td>\n      <td>Factual Consistency</td>\n      <td>Style Embodiment</td>\n      <td>Fluency</td>\n      <td>ID</td>\n      <td>706</td>\n    </tr>\n    <tr>\n      <th>10</th>\n      <td>Name</td>\n      <td>The Waterman</td>\n      <td>With a rating of 5 out of 5, Clowns coffee sho...</td>\n      <td>There is a 3 out of 5, The Waterman located ne...</td>\n      <td></td>\n      <td></td>\n      <td></td>\n      <td>1</td>\n      <td></td>\n    </tr>\n    <tr>\n      <th>11</th>\n      <td>Food</td>\n      <td>fast</td>\n      <td></td>\n      <td>The Waterman is a moderately priced fast food ...</td>\n      <td></td>\n      <td></td>\n      <td></td>\n      <td>0</td>\n      <td></td>\n    </tr>\n    <tr>\n      <th>12</th>\n      <td>Price range</td>\n      <td>moderate</td>\n      <td></td>\n      <td>With a customer rating of 3 out of 5, The Wate...</td>\n      <td></td>\n      <td></td>\n      <td></td>\n      <td>2</td>\n      <td></td>\n    </tr>\n    <tr>\n      <th>13</th>\n      <td>Customer rating</td>\n      <td>3 out of 5</td>\n      <td></td>\n      <td></td>\n      <td></td>\n      <td></td>\n      <td></td>\n      <td></td>\n      <td></td>\n    </tr>\n    <tr>\n      <th>14</th>\n      <td>Area</td>\n      <td>city centre</td>\n      <td></td>\n      <td></td>\n      <td></td>\n      <td></td>\n      <td></td>\n      <td></td>\n      <td></td>\n    </tr>\n    <tr>\n      <th>15</th>\n      <td>Family friendly</td>\n      <td>no</td>\n      <td></td>\n      <td></td>\n      <td></td>\n      <td></td>\n      <td></td>\n      <td></td>\n      <td></td>\n    </tr>\n    <tr>\n      <th>16</th>\n      <td></td>\n      <td></td>\n      <td></td>\n      <td></td>\n      <td></td>\n      <td></td>\n      <td></td>\n      <td></td>\n      <td></td>\n    </tr>\n    <tr>\n      <th>17</th>\n      <td></td>\n      <td></td>\n      <td></td>\n      <td></td>\n      <td></td>\n      <td></td>\n      <td></td>\n      <td></td>\n      <td></td>\n    </tr>\n    <tr>\n      <th>18</th>\n      <td>Table</td>\n      <td></td>\n      <td>Exemplar</td>\n      <td>Generations</td>\n      <td>Factual Consistency</td>\n      <td>Style Embodiment</td>\n      <td>Fluency</td>\n      <td>ID</td>\n      <td>5183</td>\n    </tr>\n    <tr>\n      <th>19</th>\n      <td>Name</td>\n      <td>The Rice Boat</td>\n      <td>The Wrestlers is a family friendly Indian coff...</td>\n      <td>The Rice Boat is a family friendly French rest...</td>\n      <td></td>\n      <td></td>\n      <td></td>\n      <td>1</td>\n      <td></td>\n    </tr>\n  </tbody>\n</table>\n</div>"
     },
     "metadata": {},
     "execution_count": 31
    }
   ],
   "source": [
    "eval_df[:20]"
   ]
  },
  {
   "cell_type": "code",
   "execution_count": 32,
   "metadata": {},
   "outputs": [],
   "source": [
    "eval_df.to_csv(\"e2e_human_eval_3.csv\", index=False, header=False)"
   ]
  },
  {
   "cell_type": "code",
   "execution_count": null,
   "metadata": {},
   "outputs": [],
   "source": []
  }
 ]
}