{
 "metadata": {
  "language_info": {
   "codemirror_mode": {
    "name": "ipython",
    "version": 3
   },
   "file_extension": ".py",
   "mimetype": "text/x-python",
   "name": "python",
   "nbconvert_exporter": "python",
   "pygments_lexer": "ipython3",
   "version": "3.6.9"
  },
  "orig_nbformat": 2,
  "kernelspec": {
   "name": "python3",
   "display_name": "Python 3.6.9 64-bit ('sr-env': virtualenv)",
   "metadata": {
    "interpreter": {
     "hash": "b459e1ccd854e432e4dd220178642c3c94442aa125d1d3c88814638f54b7d686"
    }
   }
  }
 },
 "nbformat": 4,
 "nbformat_minor": 2,
 "cells": [
  {
   "cell_type": "code",
   "execution_count": 1,
   "metadata": {},
   "outputs": [],
   "source": [
    "import datasets\n",
    "import os\n",
    "import numpy as np\n",
    "import sys\n",
    "import re\n",
    "sys.path.append(\"../retrievers\")\n",
    "\n",
    "from tqdm import tqdm\n",
    "from totto_retriever import TottoRetriever\n",
    "from retriever import Retriever\n",
    "from nltk import word_tokenize\n",
    "\n",
    "os.environ[\"HF_HOME\"] = \"/projects/ogma2/users/andrewsi/cache/huggingface/\"\n",
    "root = \"/projects/ogma2/users/andrewsi/control-data2text\"\n",
    "os.environ[\"CUDA_VISIBLE_DEVICES\"]=\"0\""
   ]
  },
  {
   "cell_type": "code",
   "execution_count": 3,
   "metadata": {},
   "outputs": [],
   "source": [
    "train_dataset = f\"{root}/prototype-retrieval/datasets/totto/totto_train_v2\"\n",
    "val_dataset = f\"{root}/prototype-retrieval/datasets/totto/totto_validation\"\n",
    "totto_val_json = f\"{root}/transformers/examples/seq2seq/test_data/totto/val_with_headers_only.json\"\n",
    "\n",
    "retriever = TottoRetriever(train_dataset)"
   ]
  },
  {
   "cell_type": "code",
   "execution_count": 6,
   "metadata": {},
   "outputs": [
    {
     "output_type": "execute_result",
     "data": {
      "text/plain": [
       "Dataset({\n",
       "    features: ['clean_source', 'clean_source_embed', 'edit_dist_map', 'edit_dist_map_no_mask', 'masked_target', 'masked_target_embed', 'source', 'source_headers_only', 'source_headers_only_embed', 'split_masked_target', 'split_target', 'target', 'target_embed'],\n",
       "    num_rows: 120761\n",
       "})"
      ]
     },
     "metadata": {},
     "execution_count": 6
    }
   ],
   "source": [
    "retriever.dataset"
   ]
  },
  {
   "cell_type": "code",
   "execution_count": 2,
   "metadata": {},
   "outputs": [],
   "source": [
    "trim_retriever = TottoRetriever(\"../datasets/totto/totto_train_trim\")"
   ]
  },
  {
   "cell_type": "code",
   "execution_count": 3,
   "metadata": {},
   "outputs": [
    {
     "output_type": "execute_result",
     "data": {
      "text/plain": [
       "Dataset({\n",
       "    features: ['clean_source_embed', 'source', 'target'],\n",
       "    num_rows: 120761\n",
       "})"
      ]
     },
     "metadata": {},
     "execution_count": 3
    }
   ],
   "source": [
    "trim_retriever.dataset"
   ]
  },
  {
   "cell_type": "code",
   "execution_count": 4,
   "metadata": {},
   "outputs": [
    {
     "output_type": "display_data",
     "data": {
      "text/plain": "HBox(children=(FloatProgress(value=0.0, max=121.0), HTML(value='')))",
      "application/vnd.jupyter.widget-view+json": {
       "version_major": 2,
       "version_minor": 0,
       "model_id": "2d282628944847a1b51ee50d7b2b376e"
      }
     },
     "metadata": {}
    },
    {
     "output_type": "stream",
     "name": "stderr",
     "text": [
      "  0%|          | 0/120761 [00:00<?, ?it/s]\n",
      "100%|██████████| 120761/120761 [4:39:05<00:00,  7.21it/s]\n",
      "Wrote training data to file: /projects/ogma2/users/andrewsi/control-data2text/transformers/examples/seq2seq/test_data/totto_proto/train_k5_clean_source_embed.json\n"
     ]
    }
   ],
   "source": [
    "trim_retriever.write_train_set(f\"{root}/transformers/examples/seq2seq/test_data/totto_proto/train_k5_clean_source_embed.json\", retrieval_map=None, retrieval_embed=\"clean_source_embed\", retrieval_k=5)"
   ]
  },
  {
   "cell_type": "code",
   "execution_count": 4,
   "metadata": {},
   "outputs": [],
   "source": [
    "proto_txt = f\"{root}/transformers/examples/seq2seq/exp/totto/totto_t5_small_new_parent/validation_results/checkpoint-64158/preds.txt\"\n",
    "proto_f = open(proto_txt, \"r\")\n",
    "proto_lines = [line.strip() for line in proto_f]"
   ]
  },
  {
   "cell_type": "code",
   "execution_count": 9,
   "metadata": {},
   "outputs": [],
   "source": [
    "def add_baseline_pred(example, idx):\n",
    "    return {\"baseline_pred\": proto_lines[idx]}\n"
   ]
  },
  {
   "cell_type": "code",
   "execution_count": 12,
   "metadata": {},
   "outputs": [
    {
     "output_type": "display_data",
     "data": {
      "text/plain": "HBox(children=(FloatProgress(value=0.0, max=7700.0), HTML(value='')))",
      "application/vnd.jupyter.widget-view+json": {
       "version_major": 2,
       "version_minor": 0,
       "model_id": "d8cb73c4a72e483eae9bb3559114a890"
      }
     },
     "metadata": {}
    },
    {
     "output_type": "stream",
     "name": "stdout",
     "text": [
      "\n"
     ]
    }
   ],
   "source": [
    "retriever.dataset = retriever.dataset.map(add_baseline_pred, with_indices=True)"
   ]
  },
  {
   "cell_type": "code",
   "execution_count": 22,
   "metadata": {},
   "outputs": [
    {
     "output_type": "display_data",
     "data": {
      "text/plain": "HBox(children=(FloatProgress(value=0.0, max=7700.0), HTML(value='')))",
      "application/vnd.jupyter.widget-view+json": {
       "version_major": 2,
       "version_minor": 0,
       "model_id": "1a803fe502b94effa91998c7736bd64d"
      }
     },
     "metadata": {}
    },
    {
     "output_type": "stream",
     "name": "stdout",
     "text": [
      "\n"
     ]
    }
   ],
   "source": [
    "retriever.add_embeds(\"baseline_pred\", gpu=0)"
   ]
  },
  {
   "cell_type": "code",
   "execution_count": 5,
   "metadata": {},
   "outputs": [
    {
     "output_type": "stream",
     "name": "stderr",
     "text": [
      "100%|██████████| 7700/7700 [00:37<00:00, 203.09it/s]\n",
      "Wrote eval data to file: /projects/ogma2/users/andrewsi/control-data2text/transformers/examples/seq2seq/test_data/totto_proto/val_from_train_random.json\n"
     ]
    }
   ],
   "source": [
    "retriever.write_eval_set(f\"{root}/transformers/examples/seq2seq/test_data/totto_proto/val_from_train_random.json\", query_embed=\"random\", retrieval_path=train_dataset, eval_k=10)"
   ]
  },
  {
   "cell_type": "code",
   "execution_count": 6,
   "metadata": {},
   "outputs": [
    {
     "output_type": "stream",
     "name": "stdout",
     "text": [
      "Wrote eval data to file: /projects/ogma2/users/andrewsi/control-data2text/transformers/examples/seq2seq/test_data/totto_proto/val_from_baseline_preds.json\n"
     ]
    }
   ],
   "source": [
    "retriever.write_eval_set_from_protos(f\"{root}/transformers/examples/seq2seq/exp/totto/totto_t5_small_new_parent/validation_results/checkpoint-64158/preds.txt\", f\"{root}/transformers/examples/seq2seq/test_data/totto/validation.json\", f\"{root}/transformers/examples/seq2seq/test_data/totto_proto/val_from_baseline_preds.json\")"
   ]
  },
  {
   "cell_type": "code",
   "execution_count": 5,
   "metadata": {},
   "outputs": [],
   "source": [
    "source = retriever.dataset[0][\"source\"]"
   ]
  },
  {
   "cell_type": "code",
   "execution_count": 21,
   "metadata": {},
   "outputs": [
    {
     "output_type": "execute_result",
     "data": {
      "text/plain": [
       "'<page_title> List of 8/9 PM telenovelas of Rede Globo </page_title> <section_title> 2000s </section_title> <table> <cell> A Favorita <col_header> Title </col_header> </cell> </table>'"
      ]
     },
     "metadata": {},
     "execution_count": 21
    }
   ],
   "source": [
    "source"
   ]
  },
  {
   "cell_type": "code",
   "execution_count": 20,
   "metadata": {},
   "outputs": [
    {
     "output_type": "execute_result",
     "data": {
      "text/plain": [
       "['List of 8/9 PM telenovelas of Rede Globo', '2000s', 'A Favorita', 'Title']"
      ]
     },
     "metadata": {},
     "execution_count": 20
    }
   ],
   "source": [
    "re.findall(\"> ([^<>]+?) <\", source)"
   ]
  },
  {
   "cell_type": "code",
   "execution_count": 10,
   "metadata": {},
   "outputs": [],
   "source": [
    "def clean_source(example):\n",
    "    clean_src = \", \".join(re.findall(\"> ([^<>]+?) <\", example[\"source\"]))\n",
    "    return {\"clean_source\": clean_src}"
   ]
  },
  {
   "cell_type": "code",
   "execution_count": 6,
   "metadata": {},
   "outputs": [],
   "source": [
    "def clean_headers(example):\n",
    "    clean_src = \", \".join(re.findall(\"> ([^<>]+?) <\", example[\"source_headers_only\"]))\n",
    "    return {\"clean_source_headers_only\": clean_src}"
   ]
  },
  {
   "cell_type": "code",
   "execution_count": 7,
   "metadata": {},
   "outputs": [
    {
     "output_type": "display_data",
     "data": {
      "text/plain": "HBox(children=(FloatProgress(value=0.0, max=7700.0), HTML(value='')))",
      "application/vnd.jupyter.widget-view+json": {
       "version_major": 2,
       "version_minor": 0,
       "model_id": "1c387f7561c54f12abd7f0842dded8eb"
      }
     },
     "metadata": {}
    },
    {
     "output_type": "stream",
     "name": "stdout",
     "text": [
      "\n"
     ]
    }
   ],
   "source": [
    "retriever.dataset = retriever.dataset.map(clean_headers)"
   ]
  },
  {
   "cell_type": "code",
   "execution_count": 13,
   "metadata": {},
   "outputs": [
    {
     "output_type": "display_data",
     "data": {
      "text/plain": "HBox(children=(FloatProgress(value=0.0, max=7700.0), HTML(value='')))",
      "application/vnd.jupyter.widget-view+json": {
       "version_major": 2,
       "version_minor": 0,
       "model_id": "9e137aff6bb543cbbe4b472504d98030"
      }
     },
     "metadata": {}
    },
    {
     "output_type": "stream",
     "name": "stdout",
     "text": [
      "\n"
     ]
    }
   ],
   "source": [
    "retriever.add_embeds(\"target\", gpu=0)"
   ]
  },
  {
   "cell_type": "code",
   "execution_count": 9,
   "metadata": {},
   "outputs": [],
   "source": [
    "src = retriever.dataset[1][\"clean_source\"]"
   ]
  },
  {
   "cell_type": "code",
   "execution_count": 34,
   "metadata": {},
   "outputs": [],
   "source": [
    "retriever.save_dataset()"
   ]
  },
  {
   "cell_type": "code",
   "execution_count": null,
   "metadata": {},
   "outputs": [],
   "source": [
    "retriever.write_eval_set(\"/projects/ogma2/users/andrewsi/control-data2text/transformers/examples/seq2seq/test_data/totto_proto/val_from_train_headers_only.json\")"
   ]
  },
  {
   "cell_type": "code",
   "execution_count": 5,
   "metadata": {},
   "outputs": [],
   "source": [
    "src = retriever.dataset[0][\"source\"]\n",
    "tgt = retriever.dataset[0][\"target\"]"
   ]
  },
  {
   "cell_type": "code",
   "execution_count": null,
   "metadata": {},
   "outputs": [],
   "source": [
    "retrieval_k = 10\n",
    "weighted = False\n",
    "max_edit_dist = 5\n",
    "retriever.write_train_set(f\"/projects/ogma2/users/andrewsi/control-data2text/transformers/examples/seq2seq/test_data/totto_proto/train_k{retrieval_k}{'_max' + str(max_edit_dist) if max_edit_dist else ''}{'_weighted' if weighted else ''}.json\", retrieval_k=retrieval_k, max_edit_dist=max_edit_dist, weighted=weighted)"
   ]
  },
  {
   "cell_type": "code",
   "execution_count": 14,
   "metadata": {},
   "outputs": [
    {
     "output_type": "display_data",
     "data": {
      "text/plain": "HBox(children=(FloatProgress(value=0.0, max=121.0), HTML(value='')))",
      "application/vnd.jupyter.widget-view+json": {
       "version_major": 2,
       "version_minor": 0,
       "model_id": "8121231800e44f828b2af9cf8c18bdbf"
      }
     },
     "metadata": {}
    },
    {
     "output_type": "stream",
     "name": "stderr",
     "text": [
      "  0%|          | 0/7700 [00:00<?, ?it/s]\n",
      "100%|██████████| 7700/7700 [21:23<00:00,  6.00it/s]\n",
      "Wrote eval data to file: /projects/ogma2/users/andrewsi/control-data2text/transformers/examples/seq2seq/test_data/totto_proto/val_from_train_target_embed.json\n"
     ]
    }
   ],
   "source": [
    "retriever.write_eval_set(\"/projects/ogma2/users/andrewsi/control-data2text/transformers/examples/seq2seq/test_data/totto_proto/val_from_train_target_embed.json\", retrieval_embed=\"target_embed\", retrieval_path=train_dataset, eval_k=10)"
   ]
  },
  {
   "cell_type": "code",
   "execution_count": null,
   "metadata": {},
   "outputs": [],
   "source": [
    "idx = 1502\n",
    "\n",
    "results = val_data.get_nearest_examples(\"source_headers_only_embed\", np.array(val_data[idx][\"source_headers_only_embed\"], dtype=np.float32), k=30)\n",
    "\n",
    "print(val_data[idx][\"target\"])\n",
    "print(\"===================================\")\n",
    "\n",
    "for i, target in enumerate(results[1][\"target\"]):\n",
    "        print(\"({}) {}\".format(results[0][i], target))"
   ]
  },
  {
   "cell_type": "code",
   "execution_count": null,
   "metadata": {},
   "outputs": [],
   "source": [
    "def add_protos(proto_path, val_file):\n",
    "    examples = []\n",
    "    val_src_lines = []\n",
    "\n",
    "    proto_file = open(proto_path, \"r\")\n",
    "    proto_lines = [line for line in proto_file]\n",
    "\n",
    "    for line in val_file:\n",
    "        val_example = json.loads(line)\n",
    "        example = {}\n",
    "        example[\"source\"] = proto_lines[i].strip() + \" [SEP] \" + val_example[\"source\"]\n",
    "        example[\"target\"] = val_example[\"target\"]\n",
    "\n",
    "    with open(out_json, \"w+\") as f:\n",
    "        for example in examples:\n",
    "            f.write(json.dumps(example) + \"\\n\")\n",
    "        print(f\"Wrote training data to file: {out_json}\")"
   ]
  }
 ]
}