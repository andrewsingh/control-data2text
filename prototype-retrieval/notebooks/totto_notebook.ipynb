{
 "metadata": {
  "language_info": {
   "codemirror_mode": {
    "name": "ipython",
    "version": 3
   },
   "file_extension": ".py",
   "mimetype": "text/x-python",
   "name": "python",
   "nbconvert_exporter": "python",
   "pygments_lexer": "ipython3",
   "version": "3.6.9-final"
  },
  "orig_nbformat": 2,
  "kernelspec": {
   "name": "python3",
   "display_name": "Python 3.6.9 64-bit",
   "metadata": {
    "interpreter": {
     "hash": "b459e1ccd854e432e4dd220178642c3c94442aa125d1d3c88814638f54b7d686"
    }
   }
  }
 },
 "nbformat": 4,
 "nbformat_minor": 2,
 "cells": [
  {
   "cell_type": "code",
   "execution_count": 1,
   "metadata": {},
   "outputs": [],
   "source": [
    "import datasets\n",
    "import argparse\n",
    "import os\n",
    "import sys\n",
    "sys.path.append(\"../retrievers\")\n",
    "\n",
    "from totto_retriever import TottoRetriever\n"
   ]
  },
  {
   "cell_type": "code",
   "execution_count": 2,
   "metadata": {},
   "outputs": [],
   "source": [
    "os.environ[\"HF_HOME\"] = \"/projects/ogma2/users/andrewsi/cache/huggingface/\"\n",
    "root = \"/projects/ogma2/users/andrewsi/control-data2text\""
   ]
  },
  {
   "cell_type": "code",
   "execution_count": 3,
   "metadata": {},
   "outputs": [],
   "source": [
    "totto_val_json = f\"{root}/transformers/examples/seq2seq/test_data/totto/validation.json\"\n",
    "totto_dataset = f\"{root}/prototype-retrieval/datasets/totto/totto_validation\"\n",
    "retriever = TottoRetriever(totto_dataset, gpu=1)"
   ]
  },
  {
   "cell_type": "code",
   "execution_count": 6,
   "metadata": {},
   "outputs": [
    {
     "output_type": "stream",
     "name": "stderr",
     "text": [
      "Using custom data configuration default-93d28942d3a3d4aa\n",
      "Reusing dataset json (/home/andrewsi/.cache/huggingface/datasets/json/default-93d28942d3a3d4aa/0.0.0/83d5b3a2f62630efc6b5315f00f20209b4ad91a00ac586597caee3a4da0bef02)\n"
     ]
    }
   ],
   "source": [
    "retriever.create_dataset(totto_val_json)"
   ]
  },
  {
   "cell_type": "code",
   "execution_count": 8,
   "metadata": {},
   "outputs": [],
   "source": [
    "dataset = datasets.load_from_disk(\"/projects/ogma2/users/andrewsi/control-data2text/prototype-retrieval/datasets/totto/totto_validation\")"
   ]
  },
  {
   "cell_type": "code",
   "execution_count": 4,
   "metadata": {},
   "outputs": [
    {
     "output_type": "display_data",
     "data": {
      "text/plain": "HBox(children=(FloatProgress(value=0.0, max=8.0), HTML(value='')))",
      "application/vnd.jupyter.widget-view+json": {
       "version_major": 2,
       "version_minor": 0,
       "model_id": "93aab7073c774be1a61c57dc32dd012a"
      }
     },
     "metadata": {}
    },
    {
     "output_type": "stream",
     "name": "stderr",
     "text": [
      "  0%|          | 3/7700 [00:00<05:18, 24.14it/s]\n",
      "  2%|▏         | 159/7700 [00:05<03:19, 37.72it/s]\n",
      "[150] low score: 0.0\n",
      " 15%|█▌        | 1160/7700 [00:36<03:12, 34.05it/s]\n",
      "[1153] low score: 0.0\n",
      " 30%|███       | 2337/7700 [01:14<02:23, 37.49it/s]\n",
      "[2330] low score: 0.0\n",
      " 36%|███▌      | 2756/7700 [01:28<03:15, 25.26it/s]\n",
      "[2753] low score: 0.0\n",
      " 43%|████▎     | 3308/7700 [01:47<02:05, 34.95it/s]\n",
      "[3299] low score: 0.0\n",
      " 52%|█████▏    | 4035/7700 [02:10<02:17, 26.56it/s]\n",
      "[4029] low score: 0.0\n",
      " 57%|█████▋    | 4375/7700 [02:22<02:06, 26.22it/s]\n",
      "[4370] low score: 0.0\n",
      " 66%|██████▌   | 5097/7700 [02:45<01:10, 36.96it/s]\n",
      "[5091] low score: 0.0\n",
      " 75%|███████▍  | 5761/7700 [03:08<01:10, 27.64it/s]\n",
      "[5754] low score: 0.0\n",
      " 86%|████████▌ | 6634/7700 [03:36<00:36, 29.16it/s]\n",
      "[6630] low score: 0.0\n",
      "100%|██████████| 7700/7700 [04:09<00:00, 30.84it/s]Wrote data to file: /projects/ogma2/users/andrewsi/control-data2text/transformers/examples/seq2seq/test_data/totto_eval/validation.json\n",
      "\n"
     ]
    }
   ],
   "source": [
    "retriever.create_eval_set(\"/projects/ogma2/users/andrewsi/control-data2text/transformers/examples/seq2seq/test_data/totto_eval/validation.json\")"
   ]
  },
  {
   "cell_type": "code",
   "execution_count": null,
   "metadata": {},
   "outputs": [],
   "source": []
  }
 ]
}