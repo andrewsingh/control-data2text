{
 "metadata": {
  "language_info": {
   "codemirror_mode": {
    "name": "ipython",
    "version": 3
   },
   "file_extension": ".py",
   "mimetype": "text/x-python",
   "name": "python",
   "nbconvert_exporter": "python",
   "pygments_lexer": "ipython3",
   "version": "3.6.9"
  },
  "orig_nbformat": 2,
  "kernelspec": {
   "name": "python3",
   "display_name": "Python 3.6.9 64-bit ('sr-env': virtualenv)",
   "metadata": {
    "interpreter": {
     "hash": "b459e1ccd854e432e4dd220178642c3c94442aa125d1d3c88814638f54b7d686"
    }
   }
  }
 },
 "nbformat": 4,
 "nbformat_minor": 2,
 "cells": [
  {
   "cell_type": "code",
   "execution_count": 1,
   "metadata": {},
   "outputs": [],
   "source": [
    "import datasets\n",
    "import os\n",
    "import numpy as np\n",
    "import sys\n",
    "sys.path.append(\"../retrievers\")\n",
    "\n",
    "from tqdm import tqdm\n",
    "from totto_retriever import TottoRetriever\n",
    "from retriever import Retriever\n",
    "\n"
   ]
  },
  {
   "cell_type": "code",
   "execution_count": 2,
   "metadata": {},
   "outputs": [],
   "source": [
    "os.environ[\"HF_HOME\"] = \"/projects/ogma2/users/andrewsi/cache/huggingface/\"\n",
    "root = \"/projects/ogma2/users/andrewsi/control-data2text\""
   ]
  },
  {
   "cell_type": "code",
   "execution_count": 3,
   "metadata": {},
   "outputs": [],
   "source": [
    "train_dataset = f\"{root}/prototype-retrieval/datasets/totto/totto_train_v2\"\n",
    "val_dataset = f\"{root}/prototype-retrieval/datasets/totto/totto_validation\"\n",
    "totto_val_json = f\"{root}/transformers/examples/seq2seq/test_data/totto/val_with_headers_only.json\"\n",
    "\n",
    "retriever = TottoRetriever(val_dataset)"
   ]
  },
  {
   "cell_type": "code",
   "execution_count": 4,
   "metadata": {},
   "outputs": [
    {
     "output_type": "execute_result",
     "data": {
      "text/plain": [
       "Dataset({\n",
       "    features: ['source', 'source_headers_only', 'source_headers_only_embed', 'target'],\n",
       "    num_rows: 7700\n",
       "})"
      ]
     },
     "metadata": {},
     "execution_count": 4
    }
   ],
   "source": [
    "retriever.dataset"
   ]
  },
  {
   "cell_type": "code",
   "execution_count": 5,
   "metadata": {},
   "outputs": [],
   "source": [
    "src = retriever.dataset[0][\"source\"]\n",
    "tgt = retriever.dataset[0][\"target\"]"
   ]
  },
  {
   "cell_type": "code",
   "execution_count": 6,
   "metadata": {},
   "outputs": [
    {
     "output_type": "execute_result",
     "data": {
      "text/plain": [
       "'[MASK] was the [MASK] [MASK] of [MASK] from [MASK] .'"
      ]
     },
     "metadata": {},
     "execution_count": 6
    }
   ],
   "source": [
    "retriever.__class__.mask_target(src, tgt)"
   ]
  },
  {
   "cell_type": "code",
   "execution_count": 5,
   "metadata": {},
   "outputs": [
    {
     "output_type": "display_data",
     "data": {
      "text/plain": "HBox(children=(FloatProgress(value=0.0, max=7700.0), HTML(value='')))",
      "application/vnd.jupyter.widget-view+json": {
       "version_major": 2,
       "version_minor": 0,
       "model_id": "40b765aed45c43cd9380985bde49b234"
      }
     },
     "metadata": {}
    },
    {
     "output_type": "stream",
     "name": "stdout",
     "text": [
      "\n"
     ]
    }
   ],
   "source": [
    "retriever.add_masked_targets()"
   ]
  },
  {
   "cell_type": "code",
   "execution_count": 7,
   "metadata": {},
   "outputs": [
    {
     "output_type": "execute_result",
     "data": {
      "text/plain": [
       "Dataset({\n",
       "    features: ['source', 'source_headers_only', 'source_headers_only_embed', 'target'],\n",
       "    num_rows: 7700\n",
       "})"
      ]
     },
     "metadata": {},
     "execution_count": 7
    }
   ],
   "source": [
    "retriever.dataset"
   ]
  },
  {
   "cell_type": "code",
   "execution_count": null,
   "metadata": {},
   "outputs": [],
   "source": [
    "retriever.add_embeds(\"source_headers_only\", gpu=1)"
   ]
  },
  {
   "cell_type": "code",
   "execution_count": null,
   "metadata": {},
   "outputs": [],
   "source": [
    "retrieval_k = 10\n",
    "weighted = False\n",
    "max_edit_dist = 5\n",
    "retriever.write_train_set(f\"/projects/ogma2/users/andrewsi/control-data2text/transformers/examples/seq2seq/test_data/totto_proto/train_k{retrieval_k}{'_max' + str(max_edit_dist) if max_edit_dist else ''}{'_weighted' if weighted else ''}.json\", retrieval_k=retrieval_k, max_edit_dist=max_edit_dist, weighted=weighted)"
   ]
  },
  {
   "cell_type": "code",
   "execution_count": 6,
   "metadata": {},
   "outputs": [
    {
     "output_type": "display_data",
     "data": {
      "text/plain": "HBox(children=(FloatProgress(value=0.0, max=121.0), HTML(value='')))",
      "application/vnd.jupyter.widget-view+json": {
       "version_major": 2,
       "version_minor": 0,
       "model_id": "8b8b8e174ff7425786c0ac117f0d5a25"
      }
     },
     "metadata": {}
    },
    {
     "output_type": "stream",
     "name": "stderr",
     "text": [
      "  0%|          | 1/7700 [00:00<22:25,  5.72it/s]\n",
      "100%|██████████| 7700/7700 [15:19<00:00,  8.38it/s]\n",
      "Wrote eval data to file: /projects/ogma2/users/andrewsi/control-data2text/transformers/examples/seq2seq/test_data/totto_eval/val_from_train_headers_only.json\n"
     ]
    }
   ],
   "source": [
    "retriever.write_eval_set(\"/projects/ogma2/users/andrewsi/control-data2text/transformers/examples/seq2seq/test_data/totto_eval/val_from_train_headers_only.json\", retrieval_embed=\"source_headers_only_embed\", retrieval_path=train_dataset, eval_k=5, gpu=1)"
   ]
  },
  {
   "cell_type": "code",
   "execution_count": 8,
   "metadata": {},
   "outputs": [
    {
     "output_type": "execute_result",
     "data": {
      "text/plain": [
       "Dataset({\n",
       "    features: ['source', 'source_headers_only', 'source_headers_only_embed', 'target'],\n",
       "    num_rows: 7700\n",
       "})"
      ]
     },
     "metadata": {},
     "execution_count": 8
    }
   ],
   "source": [
    "retriever.dataset"
   ]
  },
  {
   "cell_type": "code",
   "execution_count": null,
   "metadata": {},
   "outputs": [],
   "source": [
    "TottoRetriever.mask_target(retriever.dataset[0][\"source\"], retriever.dataset[0][\"target\"])"
   ]
  },
  {
   "cell_type": "code",
   "execution_count": null,
   "metadata": {},
   "outputs": [],
   "source": [
    "val_data = retriever.dataset\n",
    "val_data.add_faiss_index(\"source_headers_only_embed\")"
   ]
  },
  {
   "cell_type": "code",
   "execution_count": null,
   "metadata": {},
   "outputs": [],
   "source": [
    "idx = 1502\n",
    "\n",
    "results = val_data.get_nearest_examples(\"source_headers_only_embed\", np.array(val_data[idx][\"source_headers_only_embed\"], dtype=np.float32), k=30)\n",
    "\n",
    "print(val_data[idx][\"target\"])\n",
    "print(\"===================================\")\n",
    "\n",
    "for i, target in enumerate(results[1][\"target\"]):\n",
    "        print(\"({}) {}\".format(results[0][i], target))"
   ]
  },
  {
   "cell_type": "code",
   "execution_count": null,
   "metadata": {},
   "outputs": [],
   "source": [
    "train_dataset = datasets.load_from_disk(\"../datasets/totto/totto_train_v2\")"
   ]
  },
  {
   "cell_type": "code",
   "execution_count": null,
   "metadata": {},
   "outputs": [],
   "source": [
    "train_dataset"
   ]
  },
  {
   "cell_type": "code",
   "execution_count": null,
   "metadata": {},
   "outputs": [],
   "source": [
    "train_dataset = train_dataset.map(lambda x: x, remove_columns=['edit_dist_map'])"
   ]
  },
  {
   "cell_type": "code",
   "execution_count": null,
   "metadata": {},
   "outputs": [],
   "source": [
    "train_dataset.save_to_disk(\"../datasets/totto/totto_train_v2\")"
   ]
  },
  {
   "cell_type": "code",
   "execution_count": null,
   "metadata": {},
   "outputs": [],
   "source": [
    "train_dataset"
   ]
  },
  {
   "cell_type": "code",
   "execution_count": null,
   "metadata": {},
   "outputs": [],
   "source": [
    "totto_dataset = datasets.load_dataset(\"json\", data_files={\"train\": f\"{root}/transformers/examples/seq2seq/test_data/totto_proto/train_k10_weighted.json\"})"
   ]
  },
  {
   "cell_type": "code",
   "execution_count": null,
   "metadata": {},
   "outputs": [],
   "source": [
    "list(totto_dataset['train'].features.keys())"
   ]
  },
  {
   "cell_type": "code",
   "execution_count": null,
   "metadata": {},
   "outputs": [],
   "source": []
  }
 ]
}