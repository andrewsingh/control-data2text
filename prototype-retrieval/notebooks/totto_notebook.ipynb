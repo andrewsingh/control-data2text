{
 "metadata": {
  "language_info": {
   "codemirror_mode": {
    "name": "ipython",
    "version": 3
   },
   "file_extension": ".py",
   "mimetype": "text/x-python",
   "name": "python",
   "nbconvert_exporter": "python",
   "pygments_lexer": "ipython3",
   "version": "3.6.9-final"
  },
  "orig_nbformat": 2,
  "kernelspec": {
   "name": "python3",
   "display_name": "Python 3.6.9 64-bit ('sr-env': virtualenv)",
   "metadata": {
    "interpreter": {
     "hash": "b459e1ccd854e432e4dd220178642c3c94442aa125d1d3c88814638f54b7d686"
    }
   }
  }
 },
 "nbformat": 4,
 "nbformat_minor": 2,
 "cells": [
  {
   "cell_type": "code",
   "execution_count": 7,
   "metadata": {},
   "outputs": [],
   "source": [
    "import datasets\n",
    "import argparse\n",
    "import os\n",
    "import numpy as np\n",
    "import sys\n",
    "sys.path.append(\"../retrievers\")\n",
    "import texar as tx\n",
    "\n",
    "from tqdm import tqdm\n",
    "from totto_retriever import TottoRetriever\n",
    "\n"
   ]
  },
  {
   "cell_type": "code",
   "execution_count": 2,
   "metadata": {},
   "outputs": [],
   "source": [
    "os.environ[\"HF_HOME\"] = \"/projects/ogma2/users/andrewsi/cache/huggingface/\"\n",
    "root = \"/projects/ogma2/users/andrewsi/control-data2text\""
   ]
  },
  {
   "cell_type": "code",
   "execution_count": 3,
   "metadata": {},
   "outputs": [],
   "source": [
    "totto_dataset = f\"{root}/prototype-retrieval/datasets/totto/totto_validation\"\n",
    "totto_val_json = f\"{root}/transformers/examples/seq2seq/test_data/totto/val_with_headers_only.json\"\n",
    "retriever = TottoRetriever(totto_dataset)"
   ]
  },
  {
   "cell_type": "code",
   "execution_count": 4,
   "metadata": {},
   "outputs": [
    {
     "output_type": "execute_result",
     "data": {
      "text/plain": [
       "Dataset({\n",
       "    features: ['source', 'source_headers_only', 'source_headers_only_embed', 'target'],\n",
       "    num_rows: 7700\n",
       "})"
      ]
     },
     "metadata": {},
     "execution_count": 4
    }
   ],
   "source": [
    "retriever.dataset"
   ]
  },
  {
   "cell_type": "code",
   "execution_count": 6,
   "metadata": {},
   "outputs": [
    {
     "output_type": "execute_result",
     "data": {
      "text/plain": [
       "'[MASK] was the [MASK] [MASK] of [MASK] from [MASK] .'"
      ]
     },
     "metadata": {},
     "execution_count": 6
    }
   ],
   "source": [
    "TottoRetriever.mask_target(retriever.dataset[0][\"source\"], retriever.dataset[0][\"target\"])"
   ]
  },
  {
   "cell_type": "code",
   "execution_count": 5,
   "metadata": {},
   "outputs": [
    {
     "output_type": "display_data",
     "data": {
      "text/plain": "HBox(children=(FloatProgress(value=0.0, max=8.0), HTML(value='')))",
      "application/vnd.jupyter.widget-view+json": {
       "version_major": 2,
       "version_minor": 0,
       "model_id": "04dfbb3ed30343c297310f5daffcda29"
      }
     },
     "metadata": {}
    },
    {
     "output_type": "stream",
     "name": "stderr",
     "text": [
      "  0%|          | 9/7700 [00:00<01:26, 88.76it/s]\n",
      "100%|██████████| 7700/7700 [01:19<00:00, 96.28it/s]\n",
      "Wrote eval data to file: /projects/ogma2/users/andrewsi/control-data2text/transformers/examples/seq2seq/test_data/totto_eval/val_headers_only.json\n"
     ]
    }
   ],
   "source": [
    "retriever.write_eval_set(\"/projects/ogma2/users/andrewsi/control-data2text/transformers/examples/seq2seq/test_data/totto_eval/val_headers_only.json\", retrieval_embed=\"source_headers_only_embed\", eval_k=5, gpu=0)"
   ]
  },
  {
   "cell_type": "code",
   "execution_count": 5,
   "metadata": {},
   "outputs": [
    {
     "output_type": "display_data",
     "data": {
      "text/plain": "HBox(children=(FloatProgress(value=0.0, max=8.0), HTML(value='')))",
      "application/vnd.jupyter.widget-view+json": {
       "version_major": 2,
       "version_minor": 0,
       "model_id": "9be80288a18843c884279d1988872dae"
      }
     },
     "metadata": {}
    },
    {
     "output_type": "stream",
     "name": "stdout",
     "text": [
      "\n"
     ]
    },
    {
     "output_type": "execute_result",
     "data": {
      "text/plain": [
       "Dataset({\n",
       "    features: ['source', 'source_headers_only', 'source_headers_only_embed', 'target'],\n",
       "    num_rows: 7700\n",
       "})"
      ]
     },
     "metadata": {},
     "execution_count": 5
    }
   ],
   "source": [
    "val_data = retriever.dataset\n",
    "val_data.add_faiss_index(\"source_headers_only_embed\")"
   ]
  },
  {
   "cell_type": "code",
   "execution_count": 6,
   "metadata": {},
   "outputs": [],
   "source": [
    "train_retriever = TottoRetriever(\"../datasets/totto/totto_train\")"
   ]
  },
  {
   "cell_type": "code",
   "execution_count": 9,
   "metadata": {},
   "outputs": [
    {
     "output_type": "stream",
     "name": "stderr",
     "text": [
      "100%|██████████| 120761/120761 [04:09<00:00, 483.35it/s]\n",
      "Wrote training data to file: /projects/ogma2/users/andrewsi/control-data2text/transformers/examples/seq2seq/test_data/totto/train_k5.json/train.json\n"
     ]
    }
   ],
   "source": [
    "train_retriever.create_train_set(\"/projects/ogma2/users/andrewsi/control-data2text/transformers/examples/seq2seq/test_data/totto/train_k5.json\", retrieval_k=5)"
   ]
  },
  {
   "cell_type": "code",
   "execution_count": 7,
   "metadata": {},
   "outputs": [
    {
     "output_type": "stream",
     "name": "stdout",
     "text": [
      "Tejada made streak at 1,152 games.\n===================================\n(0.0) Tejada made streak at 1,152 games.\n(30.03101348876953) Before Gehrig, Everett Scott made (1,307 consecutive games), whose streak ended in 1925, less than a month before Gehrig's began.\n(45.333290100097656) Canada's Alice Falaiye twice (third and fourth attempt) had a winning jump with 6.43 metres.\n(45.58599853515625) In 1989, President George H. W. Bush nominated John Tower to be Secretary of Defense.\n(50.24248123168945) Mauer was selected by the Twins as the first overall pick of the 2001 draft.\n(50.68273162841797) The 999 cc engine has a 71.1 mm (2.80 in) bore and a 62.9 mm (2.48 in) stroke.\n(50.99052810668945) Heer received 275, 17 went to the Kriegsmarine, 117 to the Luftwaffe, and 28 to the Waffen-SS.\n(52.408973693847656) Timo won Big Brother Germany 2010 with 75.2% of the votes against Marc.\n(54.28458023071289) DNSSEC was added in Dnsmasq 2.69.\n(54.964969635009766) The Redskins drafted Los Angeles Rams' seventh-round selection (241st overall).\n(57.68971252441406) Kargu was the Ligue 1 top scorer in the 1953–54 season, scoring 27 goals for Bordeaux.\n(59.22505569458008) From 2016–2020, the XDR now consists of the following five currencies: U.S. dollar 41.73%, Euro 30.93%, Chinese yuan 10.92%, Japanese yen 8.33% and British pound 8.09%.\n(59.5235710144043) Girls' Hostel is a 1962 film starring Nalini Jaywant, Johnny Walker, Ajit, Shashi Raj, and Geetanjali.\n(59.53506088256836) At the 2011 European Championships, Vera Bazarova won the bronze medal and finished third in both programs with a combined total (188.24).\n(59.89481735229492) State Highway 72 is a Texas state highway that runs from near Fowlerton to Cuero.\n(60.357730865478516) Qualifying for 2019 Melbourne 400 Race saw Mostert pip, McLaughlin, by 0.08s with a time of 1:54.2783s to claim his first pole position.\n(60.52177047729492) Graham Rahal inherited the pole position with a record time of 1:13.9681.\n(60.90188217163086) Thirumalachari Ramasami received Padma Shri in Science and Engineering in 2001.\n(61.3389892578125) Until 2014, Marrecs have completed 2783 towers and they have crowned 71.\n(61.75382614135742) Nina Dobrev played the character of Elena Gilbert as the main role in the first six seasons and as a guest role in season 8.\n(62.281219482421875) In 1975–76, John Fleming played for the Fourth Division club Lincoln City.\n(62.401649475097656) Olerud jumped directly to the majors after Washington State.\n(62.52473449707031) Smith Volcano is one of the active volcanoes in the Philippines, which last erupted in 1924.\n(63.04678726196289) Dileita Mohamed Dileita (born 1958) was the Prime Minister of Djibouti from 7 March 2001 to 1 April 2013.\n(63.305206298828125) The 2012 Danmark Rundt was won by Team Sky Mark Cavendish, with Lieuwe Westra.\n(63.3712158203125) De Beer scored a hat-trick in South Africa's 44–21 victory over England in the 1999 Rugby World Cup.\n(63.43769836425781) Hamilton secured a front-row berth on his final lap with a 1:40.948 and left Vettel and Webber second and third respectively.\n(63.950172424316406) In 2014-15, Ashley Vincent signed with Shrewsbury Town and played in League Two.\n(64.0827407836914) In 2014, Nick Mullens started in 10 games and completed 218 of 365 atts for 2,470 passing yards and 12 touchdowns.\n(64.22109985351562) Malcolm Turnbull (born 1954) was the 29th Prime Minister of Australia from 2015 to 2018.\n"
     ]
    }
   ],
   "source": [
    "idx = 1502\n",
    "\n",
    "results = val_data.get_nearest_examples(\"source_headers_only_embed\", np.array(val_data[idx][\"source_headers_only_embed\"], dtype=np.float32), k=30)\n",
    "\n",
    "print(val_data[idx][\"target\"])\n",
    "print(\"===================================\")\n",
    "\n",
    "for i, target in enumerate(results[1][\"target\"]):\n",
    "        print(\"({}) {}\".format(results[0][i], target))"
   ]
  },
  {
   "cell_type": "code",
   "execution_count": null,
   "metadata": {},
   "outputs": [],
   "source": []
  }
 ]
}