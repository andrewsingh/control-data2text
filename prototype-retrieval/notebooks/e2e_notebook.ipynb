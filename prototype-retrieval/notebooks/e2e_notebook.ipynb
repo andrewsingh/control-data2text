{
 "metadata": {
  "language_info": {
   "codemirror_mode": {
    "name": "ipython",
    "version": 3
   },
   "file_extension": ".py",
   "mimetype": "text/x-python",
   "name": "python",
   "nbconvert_exporter": "python",
   "pygments_lexer": "ipython3",
   "version": "3.6.9"
  },
  "orig_nbformat": 2,
  "kernelspec": {
   "name": "python3",
   "display_name": "Python 3.6.9 64-bit ('sr-env': virtualenv)",
   "metadata": {
    "interpreter": {
     "hash": "b459e1ccd854e432e4dd220178642c3c94442aa125d1d3c88814638f54b7d686"
    }
   }
  }
 },
 "nbformat": 4,
 "nbformat_minor": 2,
 "cells": [
  {
   "cell_type": "code",
   "execution_count": 1,
   "metadata": {},
   "outputs": [],
   "source": [
    "import datasets\n",
    "import os\n",
    "import numpy as np\n",
    "import sys\n",
    "sys.path.append(\"../retrievers\")\n",
    "\n",
    "from tqdm import tqdm\n",
    "from e2e_retriever import E2ERetriever\n",
    "\n",
    "os.environ[\"HF_HOME\"] = \"/projects/ogma2/users/andrewsi/cache/huggingface/\"\n",
    "root = \"/projects/ogma2/users/andrewsi/control-data2text\"\n",
    "os.environ[\"CUDA_VISIBLE_DEVICES\"]=\"1\""
   ]
  },
  {
   "cell_type": "code",
   "execution_count": 2,
   "metadata": {},
   "outputs": [],
   "source": [
    "train_path = f\"{root}/prototype-retrieval/datasets/e2e/e2e_train_v2\"\n",
    "retriever = E2ERetriever(train_path)"
   ]
  },
  {
   "cell_type": "code",
   "execution_count": 3,
   "metadata": {},
   "outputs": [
    {
     "output_type": "execute_result",
     "data": {
      "text/plain": [
       "Dataset({\n",
       "    features: ['edit_dist_map', 'edit_dist_map_no_mask', 'masked_target', 'masked_target_embed', 'source', 'source_embed', 'split_masked_target', 'split_target', 'target', 'target_embed', 'values'],\n",
       "    num_rows: 29487\n",
       "})"
      ]
     },
     "metadata": {},
     "execution_count": 3
    }
   ],
   "source": [
    "retriever.dataset"
   ]
  },
  {
   "cell_type": "code",
   "execution_count": 7,
   "metadata": {},
   "outputs": [
    {
     "output_type": "display_data",
     "data": {
      "text/plain": "HBox(children=(FloatProgress(value=0.0, max=29487.0), HTML(value='')))",
      "application/vnd.jupyter.widget-view+json": {
       "version_major": 2,
       "version_minor": 0,
       "model_id": "0fcab52eb1e04501b552856b308ffc39"
      }
     },
     "metadata": {}
    },
    {
     "output_type": "stream",
     "name": "stdout",
     "text": [
      "\n"
     ]
    }
   ],
   "source": [
    "retriever.dataset = retriever.dataset.map(lambda example: {'split_target': example['target'].split()})"
   ]
  },
  {
   "cell_type": "code",
   "execution_count": 8,
   "metadata": {},
   "outputs": [],
   "source": [
    "retriever.save_dataset()"
   ]
  },
  {
   "cell_type": "code",
   "execution_count": 4,
   "metadata": {},
   "outputs": [
    {
     "output_type": "execute_result",
     "data": {
      "text/plain": [
       "'name The_Vaults eatType pub priceRange more_than_£30 customerRating 5_out_of_5 near Café_Adriatic'"
      ]
     },
     "metadata": {},
     "execution_count": 4
    }
   ],
   "source": [
    "retriever.dataset[0]['source']"
   ]
  },
  {
   "cell_type": "code",
   "execution_count": 6,
   "metadata": {},
   "outputs": [
    {
     "output_type": "display_data",
     "data": {
      "text/plain": "HBox(children=(FloatProgress(value=0.0, max=29487.0), HTML(value='')))",
      "application/vnd.jupyter.widget-view+json": {
       "version_major": 2,
       "version_minor": 0,
       "model_id": "ed461226989a4d4aa39d17c6a844c226"
      }
     },
     "metadata": {}
    },
    {
     "output_type": "stream",
     "name": "stdout",
     "text": [
      "\n"
     ]
    }
   ],
   "source": [
    "retriever.add_embeds(\"source\", gpu=0)"
   ]
  },
  {
   "cell_type": "code",
   "execution_count": 4,
   "metadata": {},
   "outputs": [
    {
     "output_type": "stream",
     "name": "stderr",
     "text": [
      "100%|██████████| 29487/29487 [05:46<00:00, 85.09it/s]\n",
      "Wrote training data to file: /projects/ogma2/users/andrewsi/control-data2text/transformers/examples/seq2seq/test_data/e2e_proto/train_k3_no_mask.json\n"
     ]
    }
   ],
   "source": [
    "retriever.write_train_set(f\"{root}/transformers/examples/seq2seq/test_data/e2e_proto/train_k3_no_mask.json\", retrieval_map=\"edit_dist_map_no_mask\", retrieval_embed=None, retrieval_k=3)"
   ]
  },
  {
   "cell_type": "code",
   "execution_count": 5,
   "metadata": {},
   "outputs": [
    {
     "output_type": "stream",
     "name": "stderr",
     "text": [
      "100%|██████████| 29487/29487 [01:03<00:00, 464.58it/s]\n",
      "Wrote training data to file: /projects/ogma2/users/andrewsi/control-data2text/transformers/examples/seq2seq/test_data/e2e_proto/train_k5_max10.json\n"
     ]
    }
   ],
   "source": [
    "retrieval_k = 5\n",
    "weighted = False\n",
    "max_edit_dist = 10\n",
    "retriever.write_train_set(f\"/projects/ogma2/users/andrewsi/control-data2text/transformers/examples/seq2seq/test_data/e2e_proto/train_k{retrieval_k}{'_max' + str(max_edit_dist) if max_edit_dist else ''}{'_weighted' if weighted else ''}.json\", retrieval_k=retrieval_k, max_edit_dist=max_edit_dist, weighted=weighted)"
   ]
  },
  {
   "cell_type": "code",
   "execution_count": 16,
   "metadata": {},
   "outputs": [],
   "source": [
    "train_dataset = datasets.load_from_disk(\"../datasets/e2e/e2e_train\")"
   ]
  },
  {
   "cell_type": "code",
   "execution_count": 17,
   "metadata": {},
   "outputs": [
    {
     "output_type": "execute_result",
     "data": {
      "text/plain": [
       "Dataset({\n",
       "    features: ['edit_dist_map', 'masked_target', 'source', 'split_masked_target', 'target', 'values'],\n",
       "    num_rows: 29487\n",
       "})"
      ]
     },
     "metadata": {},
     "execution_count": 17
    }
   ],
   "source": [
    "train_dataset"
   ]
  },
  {
   "cell_type": "code",
   "execution_count": 18,
   "metadata": {},
   "outputs": [
    {
     "output_type": "display_data",
     "data": {
      "text/plain": "HBox(children=(FloatProgress(value=0.0, max=29487.0), HTML(value='')))",
      "application/vnd.jupyter.widget-view+json": {
       "version_major": 2,
       "version_minor": 0,
       "model_id": "0e3f519cee0948c58c4c5da13d1de915"
      }
     },
     "metadata": {}
    },
    {
     "output_type": "stream",
     "name": "stdout",
     "text": [
      "\n"
     ]
    }
   ],
   "source": [
    "train_dataset = train_dataset.map(lambda x: x, remove_columns=['edit_dist_map'])"
   ]
  },
  {
   "cell_type": "code",
   "execution_count": 20,
   "metadata": {},
   "outputs": [
    {
     "output_type": "execute_result",
     "data": {
      "text/plain": [
       "Dataset({\n",
       "    features: ['masked_target', 'source', 'split_masked_target', 'target', 'values'],\n",
       "    num_rows: 29487\n",
       "})"
      ]
     },
     "metadata": {},
     "execution_count": 20
    }
   ],
   "source": [
    "train_dataset"
   ]
  },
  {
   "cell_type": "code",
   "execution_count": 21,
   "metadata": {},
   "outputs": [],
   "source": [
    "train_dataset.save_to_disk(\"../datasets/e2e/e2e_train_v2\")"
   ]
  },
  {
   "cell_type": "code",
   "execution_count": null,
   "metadata": {},
   "outputs": [],
   "source": []
  }
 ]
}