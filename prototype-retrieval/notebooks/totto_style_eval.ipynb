{
 "metadata": {
  "language_info": {
   "codemirror_mode": {
    "name": "ipython",
    "version": 3
   },
   "file_extension": ".py",
   "mimetype": "text/x-python",
   "name": "python",
   "nbconvert_exporter": "python",
   "pygments_lexer": "ipython3",
   "version": 3
  },
  "orig_nbformat": 2
 },
 "nbformat": 4,
 "nbformat_minor": 2,
 "cells": [
  {
   "cell_type": "code",
   "execution_count": null,
   "metadata": {},
   "outputs": [],
   "source": [
    "import datasets\n",
    "import os\n",
    "import numpy as np\n",
    "import sys\n",
    "sys.path.append(\"../retrievers\")\n",
    "import texar as tx\n",
    "\n",
    "from tqdm import tqdm\n",
    "from totto_retriever import TottoRetriever\n",
    "\n",
    "\n",
    "os.environ[\"HF_HOME\"] = \"/projects/ogma2/users/andrewsi/cache/huggingface/\"\n",
    "root = \"/projects/ogma2/users/andrewsi/control-data2text\""
   ]
  },
  {
   "cell_type": "code",
   "execution_count": null,
   "metadata": {},
   "outputs": [],
   "source": [
    "val_json = f\"{root}/transformers/examples/seq2seq/test_data/totto/val_with_headers_only.json\"\n",
    "preds_file = \"\"\n",
    "\n",
    "with open(preds_file, \"r\") as f:\n",
    "    normal_preds = [line.strip() for line in f]\n",
    "mask_token = \"<UNK>\"\n",
    "masked_preds = []\n",
    "masked_protos = []\n",
    "val_data = datasets.load_dataset(\"json\", data_files=val_json)[\"train\"]\n",
    "for i in tqdm(range(len(normal_preds))):\n",
    "    proto, source = val_data[i][\"source\"].split(\"[SEP]\")\n",
    "    proto = proto.strip()\n",
    "    source = source.strip()\n",
    "    masked_preds.append(TottoRetriever.mask_target(source, normal_preds[i], mask_token=mask_token).strip())\n",
    "    masked_protos.append(TottoRetriever.mask_target(source, proto, mask_token=mask_token).strip())"
   ]
  },
  {
   "cell_type": "code",
   "execution_count": null,
   "metadata": {},
   "outputs": [],
   "source": [
    "bleu_refs = [[ref] for ref in masked_protos]\n",
    "bleu_preds = list(map(str.split, masked_preds))\n",
    "m_bleu = tx.evals.corpus_bleu_moses(bleu_refs, bleu_preds, lowercase=True, return_all=False)\n",
    "print(f\"m_bleu: {m_bleu}\")"
   ]
  }
 ]
}