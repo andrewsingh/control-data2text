{
 "metadata": {
  "language_info": {
   "codemirror_mode": {
    "name": "ipython",
    "version": 3
   },
   "file_extension": ".py",
   "mimetype": "text/x-python",
   "name": "python",
   "nbconvert_exporter": "python",
   "pygments_lexer": "ipython3",
   "version": "3.6.9-final"
  },
  "orig_nbformat": 2,
  "kernelspec": {
   "name": "python3",
   "display_name": "Python 3.6.9 64-bit",
   "metadata": {
    "interpreter": {
     "hash": "b459e1ccd854e432e4dd220178642c3c94442aa125d1d3c88814638f54b7d686"
    }
   }
  }
 },
 "nbformat": 4,
 "nbformat_minor": 2,
 "cells": [
  {
   "cell_type": "code",
   "execution_count": 1,
   "metadata": {},
   "outputs": [],
   "source": [
    "import json\n",
    "from language.totto.baseline_preprocessing import preprocess_utils\n",
    "from tqdm import tqdm"
   ]
  },
  {
   "cell_type": "code",
   "execution_count": 2,
   "metadata": {},
   "outputs": [
    {
     "output_type": "stream",
     "name": "stderr",
     "text": [
      "7700it [00:02, 2950.25it/s]\n"
     ]
    }
   ],
   "source": [
    "json_examples = []\n",
    "with open(\"../totto_data/totto_dev_data.jsonl\", \"r\", encoding=\"utf-8\") as input_file:\n",
    "    for line in tqdm(input_file):\n",
    "        json_examples.append(json.loads(line))"
   ]
  },
  {
   "cell_type": "code",
   "execution_count": 16,
   "metadata": {},
   "outputs": [],
   "source": [
    "json_example = json_examples[20]\n"
   ]
  },
  {
   "cell_type": "code",
   "execution_count": 17,
   "metadata": {},
   "outputs": [],
   "source": [
    "table = json_example[\"table\"]\n",
    "table_page_title = json_example[\"table_page_title\"]\n",
    "table_section_title = json_example[\"table_section_title\"]\n",
    "cell_indices = json_example[\"highlighted_cells\"]\n",
    "subtable = (\n",
    "    preprocess_utils.get_highlighted_subtable(\n",
    "        table=table,\n",
    "        cell_indices=cell_indices,\n",
    "        with_heuristic_headers=True))\n",
    "subtable_metadata_str = (\n",
    "    preprocess_utils.linearize_subtable(\n",
    "        subtable=subtable,\n",
    "        table_page_title=None,\n",
    "        table_section_title=table_section_title,\n",
    "        headers_only=True))"
   ]
  },
  {
   "cell_type": "code",
   "execution_count": 18,
   "metadata": {},
   "outputs": [
    {
     "output_type": "execute_result",
     "data": {
      "text/plain": [
       "'<section_title> Club </section_title> <table> <col_header> Club </col_header> <col_header> Division </col_header> <col_header> Total </col_header> <col_header> Total </col_header> <col_header> Season </col_header> <col_header> Apps </col_header> <col_header> Total </col_header> <col_header> Total </col_header> <col_header> League </col_header> <col_header> Goals </col_header> <col_header> 0 </col_header> <col_header> 19 </col_header> </table>'"
      ]
     },
     "metadata": {},
     "execution_count": 18
    }
   ],
   "source": [
    "subtable_metadata_str"
   ]
  },
  {
   "cell_type": "code",
   "execution_count": null,
   "metadata": {},
   "outputs": [],
   "source": []
  }
 ]
}