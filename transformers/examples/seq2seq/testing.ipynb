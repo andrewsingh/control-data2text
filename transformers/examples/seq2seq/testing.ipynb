{
 "metadata": {
  "language_info": {
   "codemirror_mode": {
    "name": "ipython",
    "version": 3
   },
   "file_extension": ".py",
   "mimetype": "text/x-python",
   "name": "python",
   "nbconvert_exporter": "python",
   "pygments_lexer": "ipython3",
   "version": "3.6.9-final"
  },
  "orig_nbformat": 2,
  "kernelspec": {
   "name": "python3",
   "display_name": "Python 3.6.9 64-bit",
   "metadata": {
    "interpreter": {
     "hash": "b459e1ccd854e432e4dd220178642c3c94442aa125d1d3c88814638f54b7d686"
    }
   }
  }
 },
 "nbformat": 4,
 "nbformat_minor": 2,
 "cells": [
  {
   "cell_type": "code",
   "execution_count": 1,
   "metadata": {},
   "outputs": [],
   "source": [
    "import os\n",
    "import transformers\n",
    "import math\n",
    "from tqdm import tqdm\n",
    "from transformers import (\n",
    "    GPT2Tokenizer,\n",
    "    GPT2LMHeadModel,\n",
    "    T5Tokenizer\n",
    ")"
   ]
  },
  {
   "cell_type": "code",
   "execution_count": 21,
   "metadata": {},
   "outputs": [],
   "source": [
    "root_dir = \"/projects/ogma2/users/andrewsi/control-data2text\"\n",
    "\n",
    "def compute_perplexity(preds):\n",
    "    e2e_lm_tokenizer = GPT2Tokenizer.from_pretrained(\"gpt2\")\n",
    "    e2e_lm = GPT2LMHeadModel.from_pretrained(f\"{root_dir}/transformers/examples/language-modeling/exp/e2e_targets/gpt2-01/checkpoint-7458\")\n",
    "    e2e_lm.to(\"cuda:3\")\n",
    "    ppls = []\n",
    "    for pred in tqdm(preds):\n",
    "        inputs = e2e_lm_tokenizer(pred, return_tensors='pt').to(\"cuda:3\")\n",
    "        outputs = e2e_lm(**inputs, labels=inputs['input_ids'])\n",
    "        ppls.append(math.exp(outputs.loss))\n",
    "    return round((sum(ppls) / len(ppls)), 4)"
   ]
  },
  {
   "cell_type": "code",
   "execution_count": 11,
   "metadata": {},
   "outputs": [],
   "source": [
    "preds_file = \"/projects/ogma2/users/andrewsi/control-data2text/transformers/examples/seq2seq/exp/e2e/e2e_k_5_t5_small/mask_y_ref.valid.txt\"\n",
    "with open(preds_file, \"r\") as f:\n",
    "    preds = [pred.replace(\"_\", \" \").strip() for pred in f]"
   ]
  },
  {
   "cell_type": "code",
   "execution_count": 13,
   "metadata": {},
   "outputs": [
    {
     "output_type": "execute_result",
     "data": {
      "text/plain": [
       "['<UNK> <UNK> near <UNK> has a <UNK> star rating . Prices start at £30 .',\n",
       " '<UNK> is located near <UNK> in the <UNK> . <UNK> prices are <UNK> and <UNK> are <UNK> .',\n",
       " '<UNK> is a <UNK> providing dine in meals in the <UNK> price range . It is located in at <UNK> .',\n",
       " '<UNK> is a <UNK> that offers <UNK> food though with a poor rating',\n",
       " '<UNK> is a <UNK> <UNK> located in the <UNK> , near <UNK> .',\n",
       " '<UNK> <UNK> is not a family <UNK> . It is located near <UNK> .',\n",
       " '<UNK> serves <UNK> food costing more that £30 and has a <UNK> customer rating . It is located in the <UNK> and has a <UNK> atmosphere .',\n",
       " '<UNK> is in <UNK> near <UNK> and serves <UNK> food with a price range is <UNK> .',\n",
       " '<UNK> is a <UNK> that cooks <UNK> food it is located by the <UNK> and the price range is <UNK>',\n",
       " '<UNK> is a <UNK> <UNK> with <UNK> customer ratings located near <UNK> in the <UNK> area .']"
      ]
     },
     "metadata": {},
     "execution_count": 13
    }
   ],
   "source": [
    "preds[:10]"
   ]
  },
  {
   "cell_type": "code",
   "execution_count": 22,
   "metadata": {},
   "outputs": [
    {
     "output_type": "stream",
     "name": "stderr",
     "text": [
      "100%|██████████| 6300/6300 [01:58<00:00, 53.33it/s]\n"
     ]
    },
    {
     "output_type": "execute_result",
     "data": {
      "text/plain": [
       "3113.2197"
      ]
     },
     "metadata": {},
     "execution_count": 22
    }
   ],
   "source": [
    "compute_perplexity(preds)"
   ]
  },
  {
   "cell_type": "code",
   "execution_count": 2,
   "metadata": {},
   "outputs": [],
   "source": [
    "tokenizer = T5Tokenizer.from_pretrained(\"t5-small\")"
   ]
  },
  {
   "cell_type": "code",
   "execution_count": 6,
   "metadata": {},
   "outputs": [
    {
     "output_type": "stream",
     "name": "stdout",
     "text": [
      "[37, 834, 28632, 348, 19, 3, 9, 59, 834, 15474, 834, 4905, 1566, 2062, 1084, 15633, 15, 834, 345, 1]\n"
     ]
    },
    {
     "output_type": "execute_result",
     "data": {
      "text/plain": [
       "20"
      ]
     },
     "metadata": {},
     "execution_count": 6
    }
   ],
   "source": [
    "text = \"The_Waterman is a not_family_friendly English restaurant near Crowne_P\"\n",
    "ids = tokenizer(text)[\"input_ids\"]\n",
    "print(ids)\n",
    "len(ids)"
   ]
  },
  {
   "cell_type": "code",
   "execution_count": null,
   "metadata": {},
   "outputs": [],
   "source": []
  }
 ]
}